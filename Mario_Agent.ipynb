{
 "cells": [
  {
   "cell_type": "code",
   "execution_count": null,
   "id": "e4f49d02",
   "metadata": {},
   "outputs": [],
   "source": [
    "!pip install gym-super-mario-bros==7.3.0 nes_py"
   ]
  },
  {
   "cell_type": "code",
   "execution_count": null,
   "id": "4deb4ca3",
   "metadata": {},
   "outputs": [],
   "source": [
    "!pip install stable-baselines3[extra]"
   ]
  },
  {
   "cell_type": "code",
   "execution_count": null,
   "id": "13f284a3",
   "metadata": {},
   "outputs": [],
   "source": [
    "import gym\n",
    "from gym_super_mario_bros.actions import SIMPLE_MOVEMENT\n",
    "from gym.wrappers import GrayScaleObservation\n",
    "import matplotlib.pyplot as plt\n",
    "from stable_baselines3.common.vec_env import VecFrameStack, DummyVecEnv\n",
    "from nes_py.wrappers import JoypadSpace\n",
    "JoypadSpace.reset = lambda self, **kwargs: self.env.reset(**kwargs) # StackOverflow code to fix a problem when calling state.reset()"
   ]
  },
  {
   "cell_type": "code",
   "execution_count": null,
   "id": "8661ee49",
   "metadata": {},
   "outputs": [],
   "source": [
    "SIMPLE_MOVEMENT"
   ]
  },
  {
   "cell_type": "markdown",
   "id": "588663eb",
   "metadata": {},
   "source": [
    "# Random Agent"
   ]
  },
  {
   "cell_type": "code",
   "execution_count": null,
   "id": "f606bfdc",
   "metadata": {},
   "outputs": [],
   "source": [
    "env = gym.make(\"SuperMarioBros-v0\",apply_api_compatibility=True,render_mode=\"human\")\n",
    "# Wrap the environment to reduce the action space : 7 instead of 256\n",
    "env = JoypadSpace(env,SIMPLE_MOVEMENT)\n",
    "\n",
    "done = True\n",
    "for step in range(1000):\n",
    "    if done:\n",
    "        env.reset()\n",
    "    action = env.action_space.sample()\n",
    "    state, reward, done,_, info = env.step(action)\n",
    "    env.render()\n",
    "env.close()"
   ]
  },
  {
   "cell_type": "markdown",
   "id": "7192de3d",
   "metadata": {},
   "source": [
    "# Preprocessing the environment"
   ]
  },
  {
   "cell_type": "code",
   "execution_count": null,
   "id": "d7f0333a",
   "metadata": {},
   "outputs": [],
   "source": [
    "env = gym.make(\"SuperMarioBros-v0\",apply_api_compatibility=True)\n",
    "# Wrap the environment to reduce the action space : 7 instead of 256\n",
    "env = JoypadSpace(env,SIMPLE_MOVEMENT)\n",
    "# Graycscale the observation space\n",
    "env= GrayScaleObservation(env, keep_dim=True)\n",
    "# plt.imshow(env.reset()[0], cmap=\"Greys\")  \n",
    "# Wrap into the Dummy Environment\n",
    "env = DummyVecEnv([lambda: env])\n",
    "# Stack the frames (so the agent can predict the movements of ennemies)\n",
    "env = VecFrameStack(env,4)\n",
    "print(\"OBSERVATION SPACE\", str(env.observation_space))\n",
    "print(\"ACTION SPACE :\",str(env.action_space))\n",
    "print(\"RENDER :\",str(env.render_mode))"
   ]
  },
  {
   "cell_type": "markdown",
   "id": "1f2a127c",
   "metadata": {},
   "source": [
    "# RL Model"
   ]
  },
  {
   "cell_type": "code",
   "execution_count": null,
   "id": "1d037186",
   "metadata": {},
   "outputs": [],
   "source": [
    "import os\n",
    "from stable_baselines3 import PPO \n",
    "from stable_baselines3.common.callbacks import BaseCallback # Saving models"
   ]
  },
  {
   "cell_type": "code",
   "execution_count": null,
   "id": "293c2ef8",
   "metadata": {},
   "outputs": [],
   "source": [
    "# Callback to save the model every check_freq steps \n",
    "# Don't save too often because a trained model is still quite big\n",
    "class TrainAndLoggingCallback(BaseCallback): \n",
    "    def __init__(self,check_freq,save_path,verbose=1):\n",
    "        super(TrainAndLoggingCallback,self).__init__(verbose)\n",
    "        self.check_freq = check_freq\n",
    "        self.save_path = save_path\n",
    "        \n",
    "    def _init_callback(self):\n",
    "        if self.save_path is not None:\n",
    "            os.makedirs(self.save_path, exist_ok=True)\n",
    "        \n",
    "    def _on_step(self):\n",
    "        if self.n_calls % self.check_freq == 0:\n",
    "            model_path = os.path.join(self.save_path, 'best_model{}'.format(self.n_calls))\n",
    "            self.model.save(model_path)\n",
    "        return True"
   ]
  },
  {
   "cell_type": "code",
   "execution_count": null,
   "id": "5972fcbd",
   "metadata": {},
   "outputs": [],
   "source": [
    "CHECKPOINT_DIR = './train/'\n",
    "LOG_DIR = './logs/'"
   ]
  },
  {
   "cell_type": "code",
   "execution_count": null,
   "id": "b5dc2c0f",
   "metadata": {},
   "outputs": [],
   "source": [
    "callback = TrainAndLoggingCallback(check_freq=100000,save_path=CHECKPOINT_DIR)"
   ]
  },
  {
   "cell_type": "code",
   "execution_count": null,
   "id": "cbc7b476",
   "metadata": {},
   "outputs": [],
   "source": [
    "model = PPO(\"CnnPolicy\",env,learning_rate=0.000001,n_steps=512, tensorboard_log=LOG_DIR,verbose=1)"
   ]
  },
  {
   "cell_type": "code",
   "execution_count": null,
   "id": "6937f7e2",
   "metadata": {},
   "outputs": [],
   "source": [
    "model.learn(total_timesteps=1000000,callback=callback)"
   ]
  },
  {
   "cell_type": "markdown",
   "id": "6b227c56",
   "metadata": {},
   "source": [
    "# Testing trained model"
   ]
  },
  {
   "cell_type": "code",
   "execution_count": null,
   "id": "90798019",
   "metadata": {},
   "outputs": [],
   "source": [
    "model = PPO.load(\"./train/best_model300000.zip\")"
   ]
  },
  {
   "cell_type": "code",
   "execution_count": null,
   "id": "aaa0f065",
   "metadata": {},
   "outputs": [],
   "source": [
    "env = gym.make(\"SuperMarioBros-v0\",apply_api_compatibility=True,render_mode=\"human\")\n",
    "env = JoypadSpace(env,SIMPLE_MOVEMENT)\n",
    "env= GrayScaleObservation(env, keep_dim=True)\n",
    "env = DummyVecEnv([lambda: env])\n",
    "env = VecFrameStack(env,4)\n",
    "\n",
    "frames= []\n",
    "state = env.reset()\n",
    "for steps in range(1000):\n",
    "    action, _ = model.predict(state)\n",
    "    state, reward, done, info = env.step(action)\n",
    "    frame = env.render()\n",
    "    frames.append(frame)\n",
    "env.close()"
   ]
  },
  {
   "cell_type": "markdown",
   "id": "b9cf72c0",
   "metadata": {},
   "source": [
    "# To improve the model :\n",
    "\n",
    "- Reduce the learning_rate\n",
    "- Train for longer : 1 million epochs should be a minimum\n"
   ]
  },
  {
   "cell_type": "markdown",
   "id": "ed3c9b60",
   "metadata": {},
   "source": [
    "# Optional : Create a mp4 video of the agent"
   ]
  },
  {
   "cell_type": "code",
   "execution_count": null,
   "id": "b8044b38",
   "metadata": {},
   "outputs": [],
   "source": [
    "import cv2\n",
    "env = gym.make(\"SuperMarioBros-v0\",apply_api_compatibility=True,render_mode=\"rgb_array\")\n",
    "env = JoypadSpace(env,SIMPLE_MOVEMENT)\n",
    "env= GrayScaleObservation(env, keep_dim=True)\n",
    "env = DummyVecEnv([lambda: env])\n",
    "env = VecFrameStack(env,4)\n",
    "\n",
    "frames= []\n",
    "state = env.reset()\n",
    "for steps in range(1000):\n",
    "    action, _ = model.predict(state)\n",
    "    state, reward, done, info = env.step(action)\n",
    "    frame = env.render()\n",
    "    frames.append(frame)\n",
    "env.close()\n",
    "\n",
    "output_video_file = 'agent_demo.mp4'\n",
    "frame_size = (frames[0].shape[1], frames[0].shape[0])  \n",
    "fps = 60  \n",
    "codec = cv2.VideoWriter_fourcc(*'mp4v')\n",
    "video_writer = cv2.VideoWriter(output_video_file, codec, fps, frame_size)\n",
    "for frame in frames:\n",
    "    bgr_frame = cv2.cvtColor(frame, cv2.COLOR_RGB2BGR)\n",
    "    video_writer.write(bgr_frame)\n",
    "\n",
    "video_writer.release()"
   ]
  }
 ],
 "metadata": {
  "kernelspec": {
   "display_name": "Python 3 (ipykernel)",
   "language": "python",
   "name": "python3"
  },
  "language_info": {
   "codemirror_mode": {
    "name": "ipython",
    "version": 3
   },
   "file_extension": ".py",
   "mimetype": "text/x-python",
   "name": "python",
   "nbconvert_exporter": "python",
   "pygments_lexer": "ipython3",
   "version": "3.10.9"
  }
 },
 "nbformat": 4,
 "nbformat_minor": 5
}
